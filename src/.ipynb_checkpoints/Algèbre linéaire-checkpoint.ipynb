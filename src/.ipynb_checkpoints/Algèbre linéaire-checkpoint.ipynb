{
 "cells": [
  {
   "cell_type": "markdown",
   "metadata": {},
   "source": [
    "# Introduction\n",
    "\n",
    "Ce document est un traduction \"libre\" et surtout approximative du cours de Zico Kolter : [Linear Algebra Review and Reference](https://see.stanford.edu/materials/aimlcs229/cs229-linalg.pdf). Les visiteurs sont fortement encouragés à se référer au document d'origine!\n",
    "\n",
    "# Concepts de base et notation\n",
    "\n",
    "L'algèbre linéaire fournit les outils permettant de représenter et manipuler simplement des ensembles d'équations linaires.\n",
    "\n",
    "$$\n",
    "4x-5y=-13\n",
    "-2x+3y=9\n",
    "$$\n"
   ]
  },
  {
   "cell_type": "code",
   "execution_count": null,
   "metadata": {},
   "outputs": [],
   "source": []
  }
 ],
 "metadata": {
  "kernelspec": {
   "display_name": "Python 3",
   "language": "python",
   "name": "python3"
  },
  "language_info": {
   "codemirror_mode": {
    "name": "ipython",
    "version": 3
   },
   "file_extension": ".py",
   "mimetype": "text/x-python",
   "name": "python",
   "nbconvert_exporter": "python",
   "pygments_lexer": "ipython3",
   "version": "3.6.3"
  }
 },
 "nbformat": 4,
 "nbformat_minor": 2
}
