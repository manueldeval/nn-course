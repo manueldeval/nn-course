{
 "cells": [
  {
   "cell_type": "markdown",
   "metadata": {},
   "source": [
    "# Notions d'algèbre linéaire\n",
    "\n",
    "\n",
    "## Introduction\n",
    "\n",
    "Ce document est un traduction \"libre\" et approximative du cours de Zico Kolter : [Linear Algebra Review and Reference](https://see.stanford.edu/materials/aimlcs229/cs229-linalg.pdf). Les lecteurs sont fortement encouragés à se référer au document d'origine!"
   ]
  },
  {
   "cell_type": "markdown",
   "metadata": {},
   "source": [
    "\n",
    "## Concepts de base et notation\n",
    "\n",
    "L'algèbre linéaire fournit les outils permettant de représenter et manipuler simplement des ensembles d'équations linaires.\n",
    "\n",
    "\\begin{align}\n",
    "     4 x_1 - 5 x_2 & = -13 \\\\\n",
    "    -2 x_1 + 3 x_2 & =  9  \n",
    "\\end{align}\n",
    "\n",
    "Il est possible à partir de ces deux équiations à deux variables de trouver une unique solution pour $x_1$ et $x_2$ (à moins que les équations soient en quelque sorte dégénérées, par exemple si la seconde équation est un multiple de la première). Dans notre exemple il n'y a une solution unique. En notation matricielle, le système précédent peut être écrit de manière plus compacte :\n",
    "\n",
    "\\begin{equation*}\n",
    "Ax=b \\\\\n",
    "\\text{ avec } A = \\begin{bmatrix}\n",
    "    4  & -5 \\\\\n",
    "    -2 & 3\n",
    "\\end{bmatrix} \n",
    "\\text{ , }\n",
    "b = \\begin{bmatrix}\n",
    "-13 \\\\\n",
    "9\n",
    "\\end{bmatrix} \n",
    "\\end{equation*}"
   ]
  },
  {
   "cell_type": "markdown",
   "metadata": {},
   "source": [
    "### Exemple de définition numpy\n",
    "\n",
    "L'exemple précédent peut s'écrire de la manière suivante avec numpy :"
   ]
  },
  {
   "cell_type": "code",
   "execution_count": 13,
   "metadata": {},
   "outputs": [
    {
     "name": "stdout",
     "output_type": "stream",
     "text": [
      "A = \n",
      " [[ 4 -5]\n",
      " [-2  3]]\n",
      "b = \n",
      " [[-13]\n",
      " [  9]]\n"
     ]
    }
   ],
   "source": [
    "import numpy as np\n",
    "A = np.matrix([[4,-5], [-2, 3]])\n",
    "b = np.matrix([-13,9]).transpose()\n",
    "print(\"A = \\n\",A)\n",
    "print(\"b = \\n\",b)"
   ]
  },
  {
   "cell_type": "markdown",
   "metadata": {},
   "source": [
    "\n",
    "\n",
    "## Notations de base\n",
    "\n",
    "Nous utilisons les notations suivantes:\n",
    "\n",
    "- $A \\in \\mathbb{R}^{m \\times n}$ définit une matrice ayant $m$ lignes et $n$ colonnes dans laquelle les élements sont des nombres réels.\n",
    "\n",
    "- $x \\in \\mathbb{R}^n$ définit un vecteur à $n$ éléments. Généralement un vecteur $x$ est un **vecteur en colonne**, c'est à dire une matrice ayant une ligne et $n$ colonnes (soit une matrice $\\mathbb{R}^{1 \\times n}$). Si l'on veut décrire un **vecteur ligne** ayant 1 ligne et $n$ colonnes, on écrit $x^T$ ($x^T$ veut dire la transposée de $x$, que nous allons décrire bientôt). \n",
    "\n",
    "- Le $i^{eme}$ élément d'un vecteur $x$ se note $x_i$ :\n",
    "\n",
    "\\begin{equation*}\n",
    "x = \\begin{bmatrix}\n",
    "x_1 \\\\\n",
    "x_2 \\\\\n",
    "\\vdots \\\\\n",
    "x_n\n",
    "\\end{bmatrix}\n",
    "\\end{equation*}\n",
    "\n",
    "- La notation $a_ij$ (ou $A_{ij}$, $A_{i , j}$, etc) définit l'élément de $A$ présent à la $i^{eme}$ ligne et à la $j^{ieme}$ colonne:\n",
    "\n",
    "\\begin{equation*}\n",
    "A = \\begin{bmatrix}\n",
    "a_{11} & a_{12} & \\dots & a_{1n} \\\\\n",
    "a_{21} & a_{22} & \\dots & a_{2n} \\\\\n",
    "\\vdots & \\vdots & \\ddots & \\vdots \\\\\n",
    "a_{m1} & a_{m2} & \\dots & a_{mn}\n",
    "\\end{bmatrix}\n",
    "\\end{equation*}\n",
    "\n",
    "- La $j^{eme}$ colonne de A se note $a_j$ ou $A_{:,j}$ :\n",
    "\n",
    "\\begin{equation*}\n",
    "A = \\begin{bmatrix}\n",
    "\\rvert & \\rvert\t&       & \\rvert \\\\\n",
    "a_1 & a_2 & \\dots & a_n \\\\\n",
    "\\rvert & \\rvert\t&       & \\rvert \n",
    "\\end{bmatrix}\n",
    "\\end{equation*}\n",
    "\n",
    "- La $i^{eme}$ ligne de A se note $a_i^T$ ou $A_{i,:}$ :\n",
    "\n",
    "\\begin{equation*}\n",
    "A = \\begin{bmatrix}\n",
    "- & a_1^T & - \\\\\n",
    "- & a_2^T & - \\\\\n",
    "  & \\vdots & \\\\\n",
    "- & a_m^T & - \n",
    "\\end{bmatrix}\n",
    "\\end{equation*}\n"
   ]
  },
  {
   "cell_type": "markdown",
   "metadata": {},
   "source": [
    "### Manipulation avec numpy \n",
    "\n",
    "> Dans numpy la première ligne et la premiere colonne commencent à 0 et non à 1 comme dans les conventions mathématiques classiques."
   ]
  },
  {
   "cell_type": "code",
   "execution_count": 23,
   "metadata": {},
   "outputs": [
    {
     "name": "stdout",
     "output_type": "stream",
     "text": [
      "La valeur de l'element a22 est :\n",
      " 3\n",
      "Le vecteur de la deuxieme colonne a2 est :\n",
      " [[-5]\n",
      " [ 3]]\n",
      "Le vecteur de la deuxieme ligne aT2 est :\n",
      " [[-2  3]]\n"
     ]
    }
   ],
   "source": [
    "a22 = A[1,1]\n",
    "print(\"La valeur de l'element a22 est :\\n\",a22)\n",
    "\n",
    "a2 = A[:,1]\n",
    "print(\"Le vecteur de la deuxieme colonne a2 est :\\n\",a2)\n",
    "\n",
    "aT2 = A[1,:]\n",
    "print(\"Le vecteur de la deuxieme ligne aT2 est :\\n\",aT2)"
   ]
  },
  {
   "cell_type": "code",
   "execution_count": null,
   "metadata": {},
   "outputs": [],
   "source": []
  }
 ],
 "metadata": {
  "kernelspec": {
   "display_name": "Python 3",
   "language": "python",
   "name": "python3"
  },
  "language_info": {
   "codemirror_mode": {
    "name": "ipython",
    "version": 3
   },
   "file_extension": ".py",
   "mimetype": "text/x-python",
   "name": "python",
   "nbconvert_exporter": "python",
   "pygments_lexer": "ipython3",
   "version": "3.6.3"
  }
 },
 "nbformat": 4,
 "nbformat_minor": 2
}
