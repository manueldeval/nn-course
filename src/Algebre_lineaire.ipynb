{
 "cells": [
  {
   "cell_type": "markdown",
   "metadata": {},
   "source": [
    "# Notions d'algèbre linéaire\n",
    "\n",
    "\n",
    "## Introduction\n",
    "\n",
    "Ce document est un traduction \"libre\" et approximative du cours de Zico Kolter : [Linear Algebra Review and Reference](https://see.stanford.edu/materials/aimlcs229/cs229-linalg.pdf). Les lecteurs sont fortement encouragés à se référer au document d'origine!"
   ]
  },
  {
   "cell_type": "markdown",
   "metadata": {},
   "source": [
    "\n",
    "## Concepts de base et notation\n",
    "\n",
    "L'algèbre linéaire fournit les outils permettant de représenter et manipuler simplement des ensembles d'équations linaires.\n",
    "\n",
    "\\begin{align}\n",
    "     4 x_1 - 5 x_2 & = -13 \\\\\n",
    "    -2 x_1 + 3 x_2 & =  9  \n",
    "\\end{align}\n",
    "\n",
    "Il est possible à partir de ces deux équiations à deux variables de trouver une unique solution pour $x_1$ et $x_2$ (à moins que les équations soient en quelque sorte dégénérées, par exemple si la seconde équation est un multiple de la première). Dans notre exemple il n'y a une solution unique. En notation matricielle, le système précédent peut être écrit de manière plus compacte :\n",
    "\n",
    "\\begin{equation*}\n",
    "Ax=b \\\\\n",
    "\\text{ avec } A = \\begin{bmatrix}\n",
    "    4  & -5 \\\\\n",
    "    -2 & 3\n",
    "\\end{bmatrix} \n",
    "\\text{ , }\n",
    "b = \\begin{bmatrix}\n",
    "-13 \\\\\n",
    "9\n",
    "\\end{bmatrix} \n",
    "\\end{equation*}"
   ]
  },
  {
   "cell_type": "markdown",
   "metadata": {},
   "source": [
    "### Exemple de définition numpy\n",
    "\n",
    "L'exemple précédent peut s'écrire de la manière suivante avec numpy :"
   ]
  },
  {
   "cell_type": "code",
   "execution_count": 1,
   "metadata": {},
   "outputs": [
    {
     "name": "stdout",
     "output_type": "stream",
     "text": [
      "A = \n",
      " [[ 4 -5]\n",
      " [-2  3]]\n",
      "b = \n",
      " [[-13]\n",
      " [  9]]\n"
     ]
    }
   ],
   "source": [
    "import numpy as np\n",
    "A = np.matrix([[4,-5], [-2, 3]])\n",
    "b = np.matrix([-13,9]).transpose()\n",
    "print(\"A = \\n\",A)\n",
    "print(\"b = \\n\",b)"
   ]
  },
  {
   "cell_type": "markdown",
   "metadata": {},
   "source": [
    "\n",
    "\n",
    "## Notations de base\n",
    "\n",
    "Nous utilisons les notations suivantes:\n",
    "\n",
    "- $A \\in \\mathbb{R}^{m \\times n}$ définit une matrice ayant $m$ lignes et $n$ colonnes dans laquelle les élements sont des nombres réels.\n",
    "\n",
    "- $x \\in \\mathbb{R}^n$ définit un vecteur à $n$ éléments. Généralement un vecteur $x$ est un **vecteur en colonne**, c'est à dire une matrice ayant une ligne et $n$ colonnes (soit une matrice $\\mathbb{R}^{1 \\times n}$). Si l'on veut décrire un **vecteur ligne** ayant 1 ligne et $n$ colonnes, on écrit $x^T$ ($x^T$ veut dire la transposée de $x$, que nous allons décrire bientôt). \n",
    "\n",
    "- Le $i^{eme}$ élément d'un vecteur $x$ se note $x_i$ :\n",
    "\n",
    "\\begin{equation*}\n",
    "x = \\begin{bmatrix}\n",
    "x_1 \\\\\n",
    "x_2 \\\\\n",
    "\\vdots \\\\\n",
    "x_n\n",
    "\\end{bmatrix}\n",
    "\\end{equation*}\n",
    "\n",
    "- La notation $a_ij$ (ou $A_{ij}$, $A_{i,j}$, etc) définit l'élément de $A$ présent à la $i^{eme}$ ligne et à la $j^{ieme}$ colonne:\n",
    "\n",
    "\\begin{equation*}\n",
    "A = \\begin{bmatrix}\n",
    "a_{11} & a_{12} & \\dots & a_{1n} \\\\\n",
    "a_{21} & a_{22} & \\dots & a_{2n} \\\\\n",
    "\\vdots & \\vdots & \\ddots & \\vdots \\\\\n",
    "a_{m1} & a_{m2} & \\dots & a_{mn}\n",
    "\\end{bmatrix}\n",
    "\\end{equation*}\n",
    "\n",
    "- La $j^{eme}$ colonne de A se note $a_j$ ou $A_{:,j}$ :\n",
    "\n",
    "\\begin{equation*}\n",
    "A = \\begin{bmatrix}\n",
    "\\rvert & \\rvert\t&       & \\rvert \\\\\n",
    "a_1 & a_2 & \\dots & a_n \\\\\n",
    "\\rvert & \\rvert\t&       & \\rvert \n",
    "\\end{bmatrix}\n",
    "\\end{equation*}\n",
    "\n",
    "- La $i^{eme}$ ligne de A se note $a_i^T$ ou $A_{i,:}$ :\n",
    "\n",
    "\\begin{equation*}\n",
    "A = \\begin{bmatrix}\n",
    "- & a_1^T & - \\\\\n",
    "- & a_2^T & - \\\\\n",
    "  & \\vdots & \\\\\n",
    "- & a_m^T & - \n",
    "\\end{bmatrix}\n",
    "\\end{equation*}\n"
   ]
  },
  {
   "cell_type": "markdown",
   "metadata": {},
   "source": [
    "### Manipulation avec numpy \n",
    "\n",
    "> Dans numpy la première ligne et la premiere colonne commencent à 0 et non à 1 comme dans les conventions mathématiques classiques."
   ]
  },
  {
   "cell_type": "code",
   "execution_count": 23,
   "metadata": {},
   "outputs": [
    {
     "name": "stdout",
     "output_type": "stream",
     "text": [
      "La valeur de l'element a22 est :\n",
      " 3\n",
      "Le vecteur de la deuxieme colonne a2 est :\n",
      " [[-5]\n",
      " [ 3]]\n",
      "Le vecteur de la deuxieme ligne aT2 est :\n",
      " [[-2  3]]\n"
     ]
    }
   ],
   "source": [
    "a22 = A[1,1]\n",
    "print(\"La valeur de l'element a22 est :\\n\",a22)\n",
    "\n",
    "a2 = A[:,1]\n",
    "print(\"Le vecteur de la deuxieme colonne a2 est :\\n\",a2)\n",
    "\n",
    "aT2 = A[1,:]\n",
    "print(\"Le vecteur de la deuxieme ligne aT2 est :\\n\",aT2)"
   ]
  },
  {
   "cell_type": "markdown",
   "metadata": {},
   "source": [
    "## Multiplication matricielle\n",
    "\n",
    "Le produit de deux matrices $A \\in \\mathbb{R}^{m \\times n}$ et  $B \\in \\mathbb{R}^{n \\times p}$ donne la matrice:\n",
    "\n",
    "\\begin{equation*}\n",
    "C = AB \\in \\mathbb{R}^{m \\times p}, \\\\\n",
    "\\end{equation*}\n",
    "\n",
    "où\n",
    "\n",
    "\\begin{equation*}\n",
    "C_{ij} = \\sum_{k = 1}^n A_{ik}B_{kj}\n",
    "\\end{equation*}\n",
    "\n",
    "Notez que pour que le produit matriciel existe le nombre de colonnes de $A$ doit être égal au nombre de lignes de $B$. Etudions maintenant quelques cas particuliers:"
   ]
  },
  {
   "cell_type": "markdown",
   "metadata": {},
   "source": [
    "### Multiplication de deux vecteurs entre eux\n",
    "\n",
    "#### Produit scalaire \n",
    "\n",
    "Etant donnés deux vecteurs $x,y \\in \\mathbb{R}^{n}$, la quantité $x^Ty$ est un nombre réel appelé le produit scalaire des deux vecteurs. Cette opération est aussi appelée **dot product** ou **inner product** en anglais.\n",
    "\n",
    "\\begin{equation*}\n",
    "x^Ty \\in \\mathbb{R} = \\sum_{i = 1}^n x_{i}y_{i}\n",
    "\\end{equation*}\n",
    "\n",
    "Notez que l'égalité suivante est toujours vérifiée : $x^Ty = y^Tx$\n",
    "On note aussi le produit scalaire de $x$ et $y$: $x \\centerdot y$.\n",
    "\n",
    "#### Produit extérieur\n",
    "\n",
    "Etant donnés deux vecteurs $x \\in \\mathbb{R}^{m}$ et $y \\in \\mathbb{R}^{n}$ (ils n'ont pas à être de la même dimension), $xy^T$ est appelé **le produit extérieur** des deux vecteurs (on le note aussi $x \\otimes y$). Le résultat est une matrice :\n",
    "\n",
    "\\begin{equation*}\n",
    "xy^T \\in \\mathbb{R}^{m \\times n} = \\begin{bmatrix}\n",
    "x_1y_1 & x_1y_2 & \\dots & x_1y_n \\\\\n",
    "x_2y_1 & x_2y_2 & \\dots & x_2y_n \\\\\n",
    "\\vdots & \\vdots & \\ddots & \\vdots \\\\\n",
    "x_my_1 & x_my_2 & \\dots & x_my_n\n",
    "\\end{bmatrix}\n",
    "\\end{equation*}\n"
   ]
  },
  {
   "cell_type": "code",
   "execution_count": 6,
   "metadata": {},
   "outputs": [
    {
     "name": "stdout",
     "output_type": "stream",
     "text": [
      "Le produit scalaire de x et y est  56\n"
     ]
    }
   ],
   "source": [
    "import numpy as np\n",
    "\n",
    "x = np.matrix([2,3,4])\n",
    "y = np.matrix([5,6,7]).transpose()\n",
    "s = np.dot(x,y)\n",
    "print (\"Le produit scalaire de x et y est \",s[0,0])"
   ]
  },
  {
   "cell_type": "markdown",
   "metadata": {},
   "source": [
    "### Multiplication d'une matrice et d'un vecteur\n",
    "\n",
    "#### Matrice multiplié par un vecteur\n",
    "\n",
    "Etant donné une matrice $A \\in \\mathbb{R}^{m \\times n}$ et un vecteur $x \\in \\mathbb{R}^n$, leur produit est un vecteur $y = Ax \\in \\mathbb{R}^m$.\n",
    "\n",
    "Il y a deux manière d'appréhender la multiplication d'une matrice et d'un vecteur, nous allons étudier les deux:\n",
    "\n",
    "- Si nous écrivons $A$ selon ses lignes, alors nous pouvous exprimer $Ax$ comme:\n",
    "\n",
    "\\begin{equation*}\n",
    "y = \\begin{bmatrix}\n",
    "- & a_1^T & - \\\\\n",
    "- & a_2^T & - \\\\\n",
    "  & \\vdots & \\\\\n",
    "- & a_m^T & - \n",
    "\\end{bmatrix} x = \\begin{bmatrix}\n",
    "a_1^Tx \\\\\n",
    "a_2^Tx \\\\\n",
    "\\vdots \\\\\n",
    "a_m^Tx\n",
    "\\end{bmatrix}\n",
    "\\end{equation*}\n",
    "\n",
    "Autrement dit, le $i^{eme}$ élément de $y$ est égal au produit scalaire de la $i^{eme}$ ligne de $A$ et de $x$, $y_i = a_i^Tx = a_i \\centerdot x$.\n",
    "\n",
    "- Nous pouvons aussi écrire $A$ sous forme de colonnes. Dans ce cas nous voyons que:\n",
    "\n",
    "\\begin{equation*}\n",
    "y = \\begin{bmatrix}\n",
    "\\rvert & \\rvert\t&       & \\rvert \\\\\n",
    "a_1 & a_2 & \\dots & a_n \\\\\n",
    "\\rvert & \\rvert\t&       & \\rvert \n",
    "\\end{bmatrix} \\begin{bmatrix}\n",
    "x_1 \\\\\n",
    "x_2 \\\\\n",
    "\\vdots \\\\\n",
    "x_n\n",
    "\\end{bmatrix} =  \\begin{bmatrix} a_1 \\end{bmatrix} x_1 + \\begin{bmatrix} a_2 \\end{bmatrix} x_2 +\n",
    "\\dots + \\begin{bmatrix} a_n \\end{bmatrix} x_n\n",
    "\\end{equation*}\n",
    "\n",
    "En d'autres termes, $y$ est une **combinaison linéaire** des colonnes de $A$, dans laquelle les coefficients de la combinaison linéaire sont données par les éléments de $x$.\n",
    "\n",
    "#### Vecteur multiplié par une matrice\n",
    "\n",
    "Jusqu'alors nous avons mutliplié à droite par un vecteur colonne, mais il est aussi possible de multiplier à gauche par un vecteur ligne. Cette opération s'écrit : $y^T = x^TA$ avec $A \\in \\mathbb{R}^{m \\times n }$, $x \\in \\mathbb{R}^m$ et $y \\in \\mathbb{R}^n$. Comme auparavant, on peut exprimer $y^T$ de deux façons:\n",
    "\n",
    "- Exprimons $A$ selon ses colonnes:\n",
    "\n",
    "\\begin{equation*}\n",
    "y^T = x^T \\begin{bmatrix}\n",
    "\\rvert & \\rvert\t&       & \\rvert \\\\\n",
    "a_1 & a_2 & \\dots & a_n \\\\\n",
    "\\rvert & \\rvert\t&       & \\rvert \n",
    "\\end{bmatrix} = \\begin{bmatrix} x^Ta_1 & x^Ta_2 & \\dots & x^Ta_n \\end{bmatrix}\n",
    "\\end{equation*}\n",
    "\n",
    "Cette forme démontre que le $i^{eme}$ élément de $y^T$ est égal au produit scalaire de $x$ et de la $i^{eme}$ colonne de $A$.\n",
    "\n",
    "- Exprimons $A$ selon ses lignes:\n",
    "\n",
    "\\begin{align}\n",
    "y^T &= \\begin{bmatrix} x_1 & x_2 & \\dots & x_n \\end{bmatrix} \\begin{bmatrix}\n",
    "- & a_1^T & - \\\\\n",
    "- & a_2^T & - \\\\\n",
    "  & \\vdots & \\\\\n",
    "- & a_m^T & - \n",
    "\\end{bmatrix} \\\\\n",
    " &= x_1 \\begin{bmatrix} - & a_1^T & - \\end{bmatrix} +\n",
    " x_2 \\begin{bmatrix} - & a_2^T & - \\end{bmatrix} +\n",
    " \\dots +\n",
    " x_n \\begin{bmatrix} - & a_n^T & - \\end{bmatrix}\n",
    "\\end{align}\n",
    "\n",
    "Nous voyons ici que $y^T$ est une combinaison linéaire des lignes de $A$, où les coefficients de la combinaison linéaire sont donnés par les éléments de $x$."
   ]
  },
  {
   "cell_type": "code",
   "execution_count": 9,
   "metadata": {},
   "outputs": [
    {
     "name": "stdout",
     "output_type": "stream",
     "text": [
      "Le produit de la matrice A et de x est:\n",
      " y=  [[56]\n",
      " [95]]\n"
     ]
    }
   ],
   "source": [
    "import numpy as np\n",
    "\n",
    "A = np.matrix([[2,3,4],[5,6,6]])\n",
    "x = np.matrix([1,6,9]).transpose()\n",
    "y = A*x\n",
    "print (\"Le produit de la matrice A et de x est:\\n y= \",y)\n"
   ]
  },
  {
   "cell_type": "markdown",
   "metadata": {},
   "source": [
    "### Produit de deux matrices\n",
    "\n",
    "Armés de nos nouvelles connaissances, nous pouvons voir 4 différentes (mais bien etendu équivalentes) façons de comprendre la multiplication matrice à matrice $C = AB$ comme défini dans le début de ce chapitre. Premièrement nous pouvons voir la multiplication matrice à matrice comme un ensemble de produits de vecteurs. Le point de vue le plus évidents, qui découle immédiatement de la définition, est que l'élément $i,j$ de $C$ est égal au produit scalaire de la $i^{eme}$ ligne de $A$ et de la $j^{eme} colonne de $B$. Ceci peut être vu de la manière suivante:\n",
    "\n",
    "\\begin{align}\n",
    "C & = AB \\\\\n",
    "    & = \\begin{bmatrix} \n",
    "            - & a_1^T & - \\\\ \n",
    "            - & a_2^T & - \\\\ \n",
    "              & \\vdots & \\\\\n",
    "            - & a_m^T & - \n",
    "        \\end{bmatrix} \\begin{bmatrix}\n",
    "            \\rvert & \\rvert &       & \\rvert \\\\\n",
    "            b_1    & b_2    & \\dots & b_p    \\\\\n",
    "            \\rvert & \\rvert &       & \\rvert \n",
    "        \\end{bmatrix} \\\\\n",
    "    & = \\begin{bmatrix} \n",
    "        a_1^Tb_1 & a_1^Tb2 & \\dots & a_1^Tb_p \\\\\n",
    "        a_2^Tb_1 & a_2^Tb2 & \\dots & a_2^Tb_p \\\\\n",
    "        \\vdots   & \\vdots  & \\ddots & \\vdots \\\\\n",
    "        a_m^Tb_1 & a_m^Tb2 & \\dots & a_m^Tb_p \n",
    "        \\end{bmatrix} \n",
    "\\end{align}\n",
    "\n",
    "Remarquez que comme $A \\in \\mathbb{R}^{m \\times n}$ et $B \\in \\mathbb{R}^{n \\times p}$, $a_i \\in \\mathbb{R}^n$ et $b_j \\in \\mathbb{R}^n$, tous le produits scalaires ont du sens. Cette représentation de la multiplication est la plus naturelle. Il est cependant possible de représenter $A$ sous forme de colonnes et $B$ par lignes, ce qui nous emmène à l'interprétation de $AB$ comme la somme de produits externes.\n",
    "\n",
    "\\begin{align}\n",
    "    C &= AB  \\\\\n",
    "      &= \\begin{bmatrix}\n",
    "           \\rvert & \\rvert &       & \\rvert \\\\\n",
    "           a_1    & a_2    & \\dots & a_n    \\\\\n",
    "           \\rvert & \\rvert &       & \\rvert \n",
    "         \\end{bmatrix} \\begin{bmatrix}\n",
    "           - & b_1^T & - \\\\\n",
    "           - & b_2^T & - \\\\\n",
    "             & \\vdots & \\\\\n",
    "           - & b_n^T & -  \n",
    "         \\end{bmatrix} \\\\\n",
    "      &=\\sum_{i = 1}^n a_{i}b_{i}^T\n",
    "\\end{align}\n",
    "\n",
    "Dit d'une autre manière, $AB$ est égal à la somme sur $i$ des produits externes de la $i^{eme}$ colonne de $A$ et de la $i^{eme}$ ligne de $B$. Comme, dans ce cas, $a_i \\in  \\mathbb{R}^m$ et $b_i \\mathbb{R}^p$, la dimension du produit externe $a_ib_i^T$ est $m \\times p$, ce qui coïncide avec la dimension de $C$.\n",
    "\n",
    "Nous pouvons voir la multiplication de matrices comme un ensemble de multiplications de matrices à vecteurs. Si nous représentons $B$ en colonnes, nous pouvons voir les colonnes de $C$ comme un produit matrice-vecteur entre $A$ et les colonnes de $B$.\n",
    "\n",
    "\\begin{align}\n",
    "    C &= AB \\\\\n",
    "      &= A \\begin{bmatrix}\n",
    "               \\rvert & \\rvert &       & \\rvert \\\\\n",
    "               b_1    & b_2    & \\dots & b_p    \\\\\n",
    "               \\rvert & \\rvert &       & \\rvert \n",
    "           \\end{bmatrix} \\\\\n",
    "      &= \\begin{bmatrix}\n",
    "               \\rvert & \\rvert &       & \\rvert \\\\\n",
    "               Ab_1    & Ab_2    & \\dots & Ab_p    \\\\\n",
    "               \\rvert & \\rvert &       & \\rvert \n",
    "         \\end{bmatrix}\n",
    "\\end{align}\n",
    "\n",
    "Ici les $i^{eme}$ colonne de $C$ est donné par le produit matrice à vecteur de droite, $c_i = Ab_i$. De la même manière, nous pouvons représenter $A$ en lignes:\n",
    "\n",
    "\\begin{align}\n",
    "    C &= AB \\\\\n",
    "      &=  \\begin{bmatrix}\n",
    "          - & a_1^T & - \\\\\n",
    "          - & a_2^T & - \\\\\n",
    "          - & \\vdots & - \\\\\n",
    "          - & a_m^T & -\n",
    "           \\end{bmatrix} B \\\\\n",
    "      &=  \\begin{bmatrix}\n",
    "          - & a_1^TB & - \\\\\n",
    "          - & a_2^TB & - \\\\\n",
    "          - & \\vdots & - \\\\\n",
    "          - & a_m^TB & -\n",
    "           \\end{bmatrix} \\\\\n",
    "\\end{align}\n",
    "\n",
    "Dans ce cas la $i^{eme}$ ligne de $C$ est donnée par le produit matrice à vecteur avec le vecteur à gauche, $c_i^T = a_i^TB$.\n",
    "\n",
    "Quelques propriétés utiles de la multiplication matricielle:\n",
    "\n",
    "- La multiplication de matrice est associative: $(AB)C = A(BC)$\n",
    "- La multiplication de matrice est distributive: $A(B+C) = AB+AC$\n",
    "- La multiplication de matrice n'est en **général** pas commutative: $AB \\ne BA$\n"
   ]
  },
  {
   "cell_type": "code",
   "execution_count": 11,
   "metadata": {},
   "outputs": [
    {
     "name": "stdout",
     "output_type": "stream",
     "text": [
      "Le produit de la matrice A et de B est:\n",
      " C=  [[ 17  71]\n",
      " [ 35 132]]\n"
     ]
    }
   ],
   "source": [
    "import numpy as np\n",
    "\n",
    "A = np.matrix([[2,3,4],[5,6,6]])\n",
    "B = np.matrix([[1,6],[5,9],[0,8]])\n",
    "C = A*B\n",
    "print (\"Le produit de la matrice A et de B est:\\n C= \",C)"
   ]
  },
  {
   "cell_type": "markdown",
   "metadata": {},
   "source": [
    "## Opérations et propriétés\n",
    "\n",
    "Dans ce chapitre sont pésentés différentes opérations et propriétés des matrices et des vecteurs.\n"
   ]
  },
  {
   "cell_type": "markdown",
   "metadata": {},
   "source": [
    "### La matrice identité et les matrices diagonales\n",
    "\n",
    "La matrice **identité**, notée $I \\in \\mathbb{R}^{n \\times n}$, est une matrice carrée ne contenant que des 1 sur la diagonales et des 0 partout ailleurs. C'est à dire:\n",
    "\n",
    "\\begin{align}\n",
    "I = \n",
    "\\begin{cases}\n",
    "1 & \\text{ si } i = j \\\\\n",
    "0 & \\text{ si } i \\ne j\n",
    "\\end{cases}\n",
    "\\end{align}\n",
    "\n",
    "Elle a pour propriété que pour tout $A \\in \\mathbb{R}^{m \\times n}$,\n",
    "\n",
    "\\begin{align}\n",
    "AI = A = IA\n",
    "\\end{align}\n",
    "\n",
    "Où la dimension de $I$ est déterminée par la dimension de $A$ de manière à ce que la mutiplication soit possible.\n",
    "\n",
    "Une **matrice diagonale** est une matrice pour laquelle tous les éléments qui ne sont pas sur la diagonale sont 0. Elle est généralement noté $D = diag(d_1,d_2,\\dots,d_n)$, avec: \n",
    "\n",
    "\\begin{align}\n",
    "D_ij = \n",
    "\\begin{cases}\n",
    "d_i & \\text{ si } i = j \\\\\n",
    "0 & \\text{ si } i \\ne j\n",
    "\\end{cases}\n",
    "\\end{align}\n",
    "\n",
    "On a évidemment: $I = diag(1,1,\\dots,1)$."
   ]
  },
  {
   "cell_type": "code",
   "execution_count": 12,
   "metadata": {
    "scrolled": true
   },
   "outputs": [
    {
     "name": "stdout",
     "output_type": "stream",
     "text": [
      "La matrice identité de taille 3 est:\n",
      " I=  [[ 1.  0.  0.]\n",
      " [ 0.  1.  0.]\n",
      " [ 0.  0.  1.]]\n"
     ]
    }
   ],
   "source": [
    "import numpy as np\n",
    "\n",
    "I = np.identity(3)\n",
    "print (\"La matrice identité de taille 3 est:\\n I= \",I)"
   ]
  },
  {
   "cell_type": "markdown",
   "metadata": {},
   "source": [
    "### La transposée\n",
    "\n",
    "La **transposée** d'une matrice s'obtient en inversant les lignes et les colonnes de la matrice. Soit un matrice $A \\in \\mathbb{R}^{m \\times n}$, sa transposée, notée $A^T$, est définie comme:\n",
    "\n",
    "\\begin{align}\n",
    "A^T \\in \\mathbb{R}^{n \\times m}, (A^T)_{ij} = A_{ji}\n",
    "\\end{align}\n",
    "\n",
    "Nous avons déjà utilisé la transposée quand nous avons décrit les vecteurs lignes comme la transposée d'un vecteur colonne.\n",
    "\n",
    "Les propriétés suivantes peuvent être facilement vérifiées:\n",
    "\n",
    "- $(A^T)^T = A$\n",
    "- $(AB)^T=B^TA^T$\n",
    "- $(A+B)^T = A^T + B^T$\n",
    "\n"
   ]
  },
  {
   "cell_type": "code",
   "execution_count": 18,
   "metadata": {},
   "outputs": [
    {
     "name": "stdout",
     "output_type": "stream",
     "text": [
      "====== Propriété 1:\n",
      " A=  [[ 2  3  4]\n",
      " [ 5  6  6]\n",
      " [ 1  9 -1]] \n",
      " ATT= [[ 2  3  4]\n",
      " [ 5  6  6]\n",
      " [ 1  9 -1]]\n",
      "====== Propriété 2:\n",
      " ABT=  [[ 17  35  46]\n",
      " [ 71 132  79]\n",
      " [ 30  65  42]] \n",
      " BTAT= [[ 17  35  46]\n",
      " [ 71 132  79]\n",
      " [ 30  65  42]]\n",
      "====== Propriété 3:\n",
      " AplusBT=  [[ 3 10  1]\n",
      " [ 9 15 17]\n",
      " [11 10  0]] \n",
      " ATplusBT= [[ 3 10  1]\n",
      " [ 9 15 17]\n",
      " [11 10  0]]\n"
     ]
    }
   ],
   "source": [
    "import numpy as np\n",
    "\n",
    "A = np.matrix([[2,3,4],[5,6,6],[1,9,-1]])\n",
    "B = np.matrix([[1,6,7],[5,9,4],[0,8,1]])\n",
    "ATT = A.transpose().transpose()\n",
    "print (\"====== Propriété 1:\\n A= \",A,\"\\n ATT=\",ATT)\n",
    "\n",
    "ABT=(A*B).transpose()\n",
    "BTAT=B.transpose() * A.transpose()\n",
    "print (\"====== Propriété 2:\\n ABT= \",ABT,\"\\n BTAT=\",BTAT)\n",
    "\n",
    "AplusBT= (A+B).transpose()\n",
    "ATplusBT= A.transpose()+B.transpose()\n",
    "print (\"====== Propriété 3:\\n AplusBT= \",AplusBT,\"\\n ATplusBT=\",ATplusBT)\n"
   ]
  },
  {
   "cell_type": "markdown",
   "metadata": {},
   "source": [
    "### Les matrices symétriques\n",
    "\n",
    "Une matrice carrée $A \\in  \\mathbb{R}^{n \\times n}$ est **symétrique** si $A = A^T$. Elle est **anti-symétrique** si $A = -A^T$. Il est aisé de montrer que pour toute matrice $A \\in  \\mathbb{R}^{n \\times n}$, la matrice $A + A^T$ est symétrique et la matrice $A - A^T$ est anti-symétrique. De cette propriété découle que toute matrice $A \\in  \\mathbb{R}^{n \\times n}$ peut être décomposée comme la somme d'une matrice symétrique et d'une matrice anti-symétrique car:\n",
    "\n",
    "\\begin{align}\n",
    "A = \\frac{1}{2}(A + A^T)+\\frac{1}{2}(A - A^T)\n",
    "\\end{align}\n",
    "\n",
    "La matrice de droite est symétrique, alors que la matrice de gauche est anti-symétrique. Il est courant de noter n'ensemble des matrices symétriques de taille $n$ comme étant $\\mathbb{S}^{n}$. Si $A \\in \\mathbb{S}^{n}$ alors A est une matrice symétrique de dimension $n$."
   ]
  },
  {
   "cell_type": "code",
   "execution_count": 22,
   "metadata": {},
   "outputs": [
    {
     "name": "stdout",
     "output_type": "stream",
     "text": [
      "====== Propriété 1:\n",
      "AplusAT=\n",
      " [[ 4  8  5]\n",
      " [ 8 12 15]\n",
      " [ 5 15 -2]]\n",
      "====== Propriété 2:\n",
      "AmoinsAT=\n",
      " [[ 0 -2  3]\n",
      " [ 2  0 -3]\n",
      " [-3  3  0]]\n",
      "====== Propriété 3:\\Formule=\n",
      " [[ 2.  3.  4.]\n",
      " [ 5.  6.  6.]\n",
      " [ 1.  9. -1.]]\n"
     ]
    }
   ],
   "source": [
    "import numpy as np\n",
    "\n",
    "A = np.matrix([[2,3,4],[5,6,6],[1,9,-1]])\n",
    "\n",
    "AplusAT = A + A.transpose()\n",
    "AmoinsAT = A - A.transpose()\n",
    "print (\"====== Propriété 1:\\nAplusAT=\\n\",AplusAT)\n",
    "print (\"====== Propriété 2:\\nAmoinsAT=\\n\",AmoinsAT)\n",
    "\n",
    "Formule=(1/2)*AplusAT + (1/2)*AmoinsAT\n",
    "print (\"====== Propriété 3:\\Formule=\\n\",Formule)\n"
   ]
  },
  {
   "cell_type": "markdown",
   "metadata": {},
   "source": [
    "### La trace\n",
    "\n",
    "La trace d'une matrice $A \\in \\mathbb{R}^{n \\times n}$, notée $tr(A)$ ou juste $tr A$ est la somme des éléments de la diagonale de la matrice:\n",
    "\n",
    "\\begin{align}\n",
    "tr(A) = \\sum_{i=1}^n A_{ii}\n",
    "\\end{align}\n",
    "\n",
    "Le trace d'une matrice a les propriétés suivantes:\n",
    "\n",
    "- Pour $A \\in \\mathbb{R}^{n \\times n}$, $tr A = tr A^T$\n",
    "- Pour $A,B \\in \\mathbb{R}^{n \\times n}$, $tr(A+B) = tr A + tr B$\n",
    "- Pour $A \\in \\mathbb{R}^{n \\times n}$, $t \\in \\mathbb{R}$, $tr(tA)=t\\text{ } tr A$\n",
    "- Pour $A,B$ tels que $AB$ est carré, $tr AB = tr BA$\n",
    "- Pour $A,B,C$ tels que $ABS$ est carré, $tr ABC = tr BCA = tra CAB$, cette propriété se généralise pour un ensemble quelconque de matrice."
   ]
  },
  {
   "cell_type": "code",
   "execution_count": 31,
   "metadata": {},
   "outputs": [
    {
     "name": "stdout",
     "output_type": "stream",
     "text": [
      "====== Propriété 1: trA= 7  trAT= 7\n",
      "====== Propriété 2: trAplusB= 22  trAplustrB= 22\n",
      "====== Propriété 3: trtA= 56  ttrA= 56\n",
      "====== Propriété 4: trAB= 179  trBA= 179\n",
      "====== Propriété 5: trABC= 1688  trBCA= 1688  trCAB= 1688\n"
     ]
    }
   ],
   "source": [
    "import numpy as np\n",
    "\n",
    "A = np.matrix([[2,3,4],[5,6,6],[1,9,-1]])\n",
    "B = np.matrix([[2,6,4],[1,5,6],[2,9,8]])\n",
    "C = np.matrix([[1,2,9],[2,3,1],[9,1,8]])\n",
    "\n",
    "trA = np.trace(A)\n",
    "trAT = np.trace(A.transpose())\n",
    "print (\"====== Propriété 1: trA=\",trA,\" trAT=\",trAT)\n",
    "\n",
    "trAplusB = np.trace(A+B)\n",
    "trAplustrB = np.trace(A) + np.trace(B)\n",
    "print (\"====== Propriété 2: trAplusB=\",trAplusB,\" trAplustrB=\",trAplustrB)\n",
    "t = 8\n",
    "trtA= np.trace(t*A)\n",
    "ttrA= t * np.trace(A)\n",
    "print (\"====== Propriété 3: trtA=\",trtA,\" ttrA=\",ttrA)\n",
    "\n",
    "trAB=np.trace(A*B)\n",
    "trBA=np.trace(B*A)\n",
    "print (\"====== Propriété 4: trAB=\",trAB,\" trBA=\",trBA)\n",
    "\n",
    "trABC=np.trace(A*B*C)\n",
    "trBCA=np.trace(B*C*A)\n",
    "trCAB=np.trace(C*A*B)\n",
    "print (\"====== Propriété 5: trABC=\",trABC,\" trBCA=\",trBCA,\" trCAB=\",trCAB)\n"
   ]
  },
  {
   "cell_type": "markdown",
   "metadata": {},
   "source": [
    "### Normes\n",
    "\n",
    "#### Définitions\n",
    "\n",
    "La **norme** d'un vecteur $\\|x\\|$ est une mesure de la \"longueur\" d'un vecteur. Par exemble, nous avons la norme euclidienne courammment utilisée (ou norme $\\ell_2$) :\n",
    "\n",
    "\\begin{align}\n",
    "\\|x\\|_2 = \\sqrt{ \\sum_{i = 1}^n x_i^2 }\n",
    "\\end{align}\n",
    "\n",
    "Remarquez que : $\\|x\\|_2^2= x^Tx$\n",
    "\n",
    "Plus formellement, une norme est une fonction $f: \\mathbb{R}^n \\to \\mathbb{R}$ qui satisfait 4 propriétés:\n",
    "\n",
    "1. Pour tout $x \\in \\mathbb{R}^n$, $f(x) \\geq 0$\n",
    "2. $f(x) = 0$ si et seulement si $x=0$\n",
    "3. Pour tout $x \\in \\mathbb{R}^n$, $t \\in \\mathbb{R}$, $f(tx)=|t| f(x)$\n",
    "4. Pour tout $x,y \\in \\mathbb{R}^n$, $f(x+y) \\leq f(x)+f(y)$\n",
    "\n",
    "Autres exemple de normes:\n",
    "\n",
    "#### Norme $\\ell_1$\n",
    "\n",
    "\\begin{align}\n",
    "\\|x\\|_1 = \\sum_{i=1}^n|x_i|\n",
    "\\end{align}\n",
    "\n",
    "#### Norme $\\ell_\\infty$\n",
    "\n",
    "\\begin{align}\n",
    "\\|x\\|_\\infty = max_i|x_i|\n",
    "\\end{align}\n",
    "\n",
    "#### Généralisation: norme $\\ell_p$\n",
    "\n",
    "En réalité les trois normes présentées précédemment, sont des exemples de norme de la famille des normes $\\ell_p$. Ces normes sont paramétrées par un nombre réel $p \\geq 1$, et définies comme suit:\n",
    "\n",
    "\\begin{align}\n",
    "\\|x\\|_p = \\left(\\sum_{i=1}^n |x_i|^{p}\\right)^\\frac{1}{p}\n",
    "\\end{align}\n",
    "\n",
    "#### Norme de matrices\n",
    "\n",
    "Des normes peuvent aussi être définies pour des matrices, comme par exemple la norme de Frobenius:\n",
    "\n",
    "\\begin{align}\n",
    "\\| A \\|_F = \\sqrt{\\sum_{i=1}^m \\sum_{j=1}^n A_ij^2} = \\sqrt{ tr (A^TA) }\n",
    "\\end{align}\n"
   ]
  },
  {
   "cell_type": "code",
   "execution_count": 40,
   "metadata": {},
   "outputs": [
    {
     "name": "stdout",
     "output_type": "stream",
     "text": [
      "Norme de Frobenius de A:  14.4568322948\n",
      "Norme de L1 de V:  3.74165738677\n",
      "Norme de Linf de V:  3.0\n"
     ]
    }
   ],
   "source": [
    "import numpy as np\n",
    "from numpy import linalg as LA\n",
    "\n",
    "A = np.matrix([[2,3,4],[5,6,6],[1,9,-1]])\n",
    "lF = LA.norm(A,'fro')\n",
    "print(\"Norme de Frobenius de A: \",lF)\n",
    "\n",
    "V= np.matrix([1,2,3])\n",
    "print (\"Norme de L1 de V: \",LA.norm(V,2))\n",
    "print (\"Norme de Linf de V: \",LA.norm(V,1))"
   ]
  },
  {
   "cell_type": "markdown",
   "metadata": {},
   "source": [
    "### Indépendance linéaire et rang\n",
    "\n"
   ]
  },
  {
   "cell_type": "code",
   "execution_count": null,
   "metadata": {},
   "outputs": [],
   "source": []
  }
 ],
 "metadata": {
  "kernelspec": {
   "display_name": "Python 3",
   "language": "python",
   "name": "python3"
  },
  "language_info": {
   "codemirror_mode": {
    "name": "ipython",
    "version": 3
   },
   "file_extension": ".py",
   "mimetype": "text/x-python",
   "name": "python",
   "nbconvert_exporter": "python",
   "pygments_lexer": "ipython3",
   "version": "3.6.3"
  }
 },
 "nbformat": 4,
 "nbformat_minor": 2
}
